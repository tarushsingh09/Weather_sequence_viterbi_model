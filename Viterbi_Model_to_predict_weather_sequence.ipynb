{
  "cells": [
    {
      "cell_type": "markdown",
      "metadata": {
        "id": "view-in-github",
        "colab_type": "text"
      },
      "source": [
        "<a href=\"https://colab.research.google.com/github/tarushsingh09/Weather_sequence_viterbi_model/blob/main/Viterbi_Model_to_predict_weather_sequence.ipynb\" target=\"_parent\"><img src=\"https://colab.research.google.com/assets/colab-badge.svg\" alt=\"Open In Colab\"/></a>"
      ]
    },
    {
      "cell_type": "markdown",
      "source": [
        "#TARUSH SINGH\n",
        "#E21CSEU0974\n",
        "#EB-13\n",
        "#NLP Lab Assignment – 05: Predict the weather sequence using the viterbi model\n",
        "#Objective: In this assignment, you will implement a viterbi model to predict the weather sequence for the given observation sequence.\n",
        "#Task: What is the sequence of hidden states for the observed sequence- 3,1,3 given the parameters of the HMM?\n"
      ],
      "metadata": {
        "id": "pDYpYClVeVUc"
      },
      "id": "pDYpYClVeVUc"
    },
    {
      "cell_type": "code",
      "execution_count": 8,
      "id": "401a9bee",
      "metadata": {
        "id": "401a9bee"
      },
      "outputs": [],
      "source": [
        "import numpy as np"
      ]
    },
    {
      "cell_type": "code",
      "execution_count": 9,
      "id": "af5b7a71",
      "metadata": {
        "id": "af5b7a71"
      },
      "outputs": [],
      "source": [
        "hidden_states = ['Cold', 'Hot']\n",
        "observation_states = ['1', '2', '3']"
      ]
    },
    {
      "cell_type": "code",
      "execution_count": 10,
      "id": "c574a5b9",
      "metadata": {
        "colab": {
          "base_uri": "https://localhost:8080/"
        },
        "id": "c574a5b9",
        "outputId": "5ffcbccc-6026-4f26-adbb-4c32bf5e4ecb"
      },
      "outputs": [
        {
          "output_type": "stream",
          "name": "stdout",
          "text": [
            "Initial State Probabilities: \n",
            "{'Cold': 0.6, 'Hot': 0.4}\n"
          ]
        }
      ],
      "source": [
        "# Define the initial state probabilities (pi)\n",
        "initial_probabilities = {'Cold': 0.6, 'Hot': 0.4}\n",
        "print(\"Initial State Probabilities: \")\n",
        "print(initial_probabilities)"
      ]
    },
    {
      "cell_type": "code",
      "source": [
        "# Transition matrix\n",
        "transition_probabilities = {\n",
        "    'Cold': {'Cold': 0.5, 'Hot': 0.5},  # Transition from COLD to [COLD, HOT]\n",
        "    'Hot': {'Cold': 0.4, 'Hot': 0.6}}   # Transition from HOT to [COLD, HOT]\n",
        "print(\"Transition Probability Matrix:\")\n",
        "print(transition_probabilities)"
      ],
      "metadata": {
        "colab": {
          "base_uri": "https://localhost:8080/"
        },
        "id": "UFj9fuSmdr9Y",
        "outputId": "c04e3974-c43e-43dd-aa2f-94625698ddde"
      },
      "id": "UFj9fuSmdr9Y",
      "execution_count": 11,
      "outputs": [
        {
          "output_type": "stream",
          "name": "stdout",
          "text": [
            "Transition Probability Matrix:\n",
            "{'Cold': {'Cold': 0.5, 'Hot': 0.5}, 'Hot': {'Cold': 0.4, 'Hot': 0.6}}\n"
          ]
        }
      ]
    },
    {
      "cell_type": "code",
      "source": [
        "#Emission Probabilities\n",
        "emission_probabilities = {\n",
        "    'Cold': {'1': 0.5, '2': 0.4, '3' : 0.1},\n",
        "    'Hot': {'1': 0.2, '2': 0.4, '3' : 0.4}}\n",
        "print(\"Emission Probability Matrix:\")\n",
        "print(emission_probabilities)"
      ],
      "metadata": {
        "colab": {
          "base_uri": "https://localhost:8080/"
        },
        "id": "yJSN2VNAdoYH",
        "outputId": "4eff9f00-25d9-4ae9-e1d6-f456fb5b6888"
      },
      "id": "yJSN2VNAdoYH",
      "execution_count": 12,
      "outputs": [
        {
          "output_type": "stream",
          "name": "stdout",
          "text": [
            "Emission Probability Matrix:\n",
            "{'Cold': {'1': 0.5, '2': 0.4, '3': 0.1}, 'Hot': {'1': 0.2, '2': 0.4, '3': 0.4}}\n"
          ]
        }
      ]
    },
    {
      "cell_type": "code",
      "execution_count": 13,
      "id": "11b9f588",
      "metadata": {
        "id": "11b9f588"
      },
      "outputs": [],
      "source": [
        "def viterbi(observation_sequence):\n",
        "    # Initialize variables to store the probabilities and backpointers\n",
        "    V = [{}]\n",
        "    backpointer = {}\n",
        "\n",
        "    # Initialize the first step probabilities using the initial probabilities\n",
        "    for state in hidden_states:\n",
        "        V[0][state] = initial_probabilities[state] * emission_probabilities[state][observation_sequence[0]]\n",
        "        backpointer[state] = [state]\n",
        "\n",
        "    # Forward step: Calculate the most likely sequence\n",
        "    for t in range(1, len(observation_sequence)):\n",
        "        V.append({})\n",
        "        new_backpointer = {}\n",
        "\n",
        "        for current_state in hidden_states:\n",
        "            max_prob = 0\n",
        "            prev_state_selected = None\n",
        "\n",
        "            for previous_state in hidden_states:\n",
        "                transition_prob = transition_probabilities[previous_state][current_state]\n",
        "                current_prob = V[t - 1][previous_state] * transition_prob * emission_probabilities[current_state][observation_sequence[t]]\n",
        "\n",
        "                if current_prob > max_prob:\n",
        "                    max_prob = current_prob\n",
        "                    prev_state_selected = previous_state\n",
        "\n",
        "            V[t][current_state] = max_prob\n",
        "            new_backpointer[current_state] = backpointer[prev_state_selected] + [current_state]\n",
        "\n",
        "        backpointer = new_backpointer\n",
        "\n",
        "    # Termination step: Find the most likely final state\n",
        "    final_state = max(V[-1], key=lambda x: V[-1][x])\n",
        "\n",
        "    # Backtrack to find the most likely sequence\n",
        "    most_likely_sequence = backpointer[final_state]\n",
        "\n",
        "    return most_likely_sequence"
      ]
    },
    {
      "cell_type": "code",
      "execution_count": 14,
      "id": "33d38df0",
      "metadata": {
        "colab": {
          "base_uri": "https://localhost:8080/"
        },
        "id": "33d38df0",
        "outputId": "e7e77adf-3fc9-4430-a965-610be7ad0b8a"
      },
      "outputs": [
        {
          "output_type": "stream",
          "name": "stdout",
          "text": [
            "Predicted Weather Sequence: ['Hot', 'Cold', 'Hot']\n"
          ]
        }
      ],
      "source": [
        "observation_sequence = ['3','1','3']\n",
        "\n",
        "# Predict the most likely weather sequence\n",
        "predicted_weather_sequence = viterbi(observation_sequence)\n",
        "\n",
        "# Print the predicted weather sequence\n",
        "print(\"Predicted Weather Sequence:\", predicted_weather_sequence)"
      ]
    }
  ],
  "metadata": {
    "kernelspec": {
      "display_name": "Python 3 (ipykernel)",
      "language": "python",
      "name": "python3"
    },
    "language_info": {
      "codemirror_mode": {
        "name": "ipython",
        "version": 3
      },
      "file_extension": ".py",
      "mimetype": "text/x-python",
      "name": "python",
      "nbconvert_exporter": "python",
      "pygments_lexer": "ipython3",
      "version": "3.9.6"
    },
    "colab": {
      "provenance": [],
      "include_colab_link": true
    }
  },
  "nbformat": 4,
  "nbformat_minor": 5
}